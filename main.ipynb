{
  "cells": [
    {
      "cell_type": "code",
      "source": [
        "!git clone https://github.com/abdallahwaseem/Arabic-plate-recognition.git\n",
        "%cd Arabic-plate-recognition"
      ],
      "metadata": {
        "id": "RoTzcBQDttp-",
        "outputId": "0c7cb794-6190-4b0d-d453-835501e7fa10",
        "colab": {
          "base_uri": "https://localhost:8080/"
        }
      },
      "execution_count": 26,
      "outputs": [
        {
          "output_type": "stream",
          "name": "stdout",
          "text": [
            "Cloning into 'Arabic-plate-recognition'...\n",
            "remote: Enumerating objects: 1365, done.\u001b[K\n",
            "remote: Counting objects: 100% (12/12), done.\u001b[K\n",
            "remote: Compressing objects: 100% (11/11), done.\u001b[K\n",
            "remote: Total 1365 (delta 3), reused 7 (delta 1), pack-reused 1353 (from 1)\u001b[K\n",
            "Receiving objects: 100% (1365/1365), 104.74 MiB | 29.21 MiB/s, done.\n",
            "Resolving deltas: 100% (5/5), done.\n",
            "Updating files: 100% (1398/1398), done.\n",
            "/content/Arabic-plate-recognition/Arabic-plate-recognition/Arabic-plate-recognition/Arabic-plate-recognition\n"
          ]
        }
      ]
    },
    {
      "cell_type": "code",
      "source": [
        "# استيراد المكتبات\n",
        "import plate_detection as pd\n",
        "import character_recognition as cr\n",
        "import cv2\n",
        "import glob\n",
        "import os\n",
        "from google.colab.patches import cv2_imshow  # مهم لعرض الصور على Colab\n",
        "\n",
        "# 1️⃣ مسح الصور القديمة في فولدر الـ output\n",
        "output_folder = 'outputPlateDetection'\n",
        "if not os.path.exists(output_folder):\n",
        "    os.makedirs(output_folder)\n",
        "\n",
        "files = glob.glob(os.path.join(output_folder, '*'))\n",
        "for f in files:\n",
        "    os.remove(f)\n",
        "\n",
        "# 2️⃣ قراءة الصور ومعالجة اللوحات\n",
        "input_folder = 'AllWorking'\n",
        "\n",
        "for img_path in sorted(glob.glob(os.path.join(input_folder, '*.jpg'))):\n",
        "    print(\"Processing image:\", img_path)\n",
        "    car = cv2.imread(img_path)\n",
        "\n",
        "    # اكتشاف اللوحة\n",
        "    detected_plate = pd.plate_detection(car)\n",
        "    if detected_plate is None:\n",
        "        print(\"No plate detected in this image\")\n",
        "        continue\n",
        "\n",
        "    detected_plate = cv2.cvtColor(detected_plate, cv2.COLOR_GRAY2BGR)\n",
        "\n",
        "    # معالجة اللوحة (مثلاً تحسين الصورة)\n",
        "    processed_plate = pd.plate_detection(detected_plate, True)\n",
        "    if processed_plate is None:\n",
        "        print(\"Plate not processed\")\n",
        "        continue\n",
        "\n",
        "    # حفظ اللوحة المعالجة\n",
        "    base_name = os.path.basename(img_path)\n",
        "    save_path = os.path.join(output_folder, base_name)\n",
        "    cv2.imwrite(save_path, processed_plate)\n",
        "\n",
        "# 3️⃣ قراءة الأرقام من اللوحات وعرضها\n",
        "for plate_img_path in sorted(glob.glob(os.path.join(output_folder, '*.jpg'))):\n",
        "    plate_img = cv2.imread(plate_img_path)\n",
        "    plate_img_gray = cv2.cvtColor(plate_img, cv2.COLOR_BGR2GRAY)\n",
        "\n",
        "    txt = cr.readPlate2(plate_img_gray)\n",
        "\n",
        "    if txt != \"\":\n",
        "        print(\"Plate Number:\", txt)\n",
        "        cv2_imshow(plate_img_gray)\n",
        "    else:\n",
        "        print(\"No number detected in this plate\")\n"
      ],
      "metadata": {
        "id": "wfGoSMF_uttA"
      },
      "execution_count": null,
      "outputs": []
    }
  ],
  "metadata": {
    "kernelspec": {
      "display_name": "Python 3",
      "name": "python3"
    },
    "language_info": {
      "codemirror_mode": {
        "name": "ipython",
        "version": 3
      },
      "file_extension": ".py",
      "mimetype": "text/x-python",
      "name": "python",
      "nbconvert_exporter": "python",
      "pygments_lexer": "ipython3",
      "version": "3.9.12"
    },
    "orig_nbformat": 4,
    "vscode": {
      "interpreter": {
        "hash": "46ac77256affca9be963c4bfc484e76fe6b8801dfad5232951d51a627d139deb"
      }
    },
    "colab": {
      "provenance": [],
      "gpuType": "T4"
    },
    "accelerator": "GPU"
  },
  "nbformat": 4,
  "nbformat_minor": 0
}